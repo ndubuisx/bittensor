{
 "cells": [
  {
   "cell_type": "markdown",
   "source": [
    "# **Welcome to Bittensor!**\n",
    "\n",
    "(This notebook is supposed to run with pip-installed version of bittensor)\n",
    "\n",
    "Bittensor is a decentralized market that enables individuals to monetize intelligence production from any computer anywhere in the world. Intelligence production is validated by the other peers in the network and rewarded through token inflation. Consumers stake this currency to gain access to the produced knowledge. Bittensor is collectively-run, open-source, and open-access.\n",
    "\n",
    "For more info...\n",
    "\n",
    "* [Visit our website](https://www.bittensor.com/)\n",
    "* [Read our paper](https://arxiv.org/abs/2003.03917)\n",
    "* [Check out the code](https://github.com/opentensor/BitTensor)\n",
    "* [Talk to us!](https://discord.gg/3rUr6EcvbB)\n",
    "\n",
    "### **Some basic terminologies**\n",
    "Before moving forward, know these terms!\n",
    "\n",
    "1. Tau: The currency name.\n",
    "2. Neuron/node/peers/endpoint: Server that mines Tau, each server owns a machine learning model, which we call nucleus.\n",
    "3. Network/chain: The whole group of people that miners Tau.\n",
    "4. Weight: The scoring that other neurons in the network gives you. \n",
    "5. Stake: The higher the stake, the more Tau you own. It is also determined by your weight and the time you stay in the network.\n",
    "\n",
    "### **Structure of this tutorial**\n",
    "1. [Quick start!](#quickStart) \n",
    "3. [Wallet](#wallet)\n",
    "2. [Metagraph](#metagraph)\n",
    "6. [Subtensor](#subtensor)\n",
    "4. [Dendrite](#dendrite)\n",
    "5. [Axon](#axon)\n",
    "\n",
    "\n",
    "\n",
    "### **Let's get the bittensor package ready!**"
   ],
   "metadata": {}
  },
  {
   "cell_type": "code",
   "execution_count": null,
   "source": [
    "# ---- install the package ----\n",
    "! pip install bittensor"
   ],
   "outputs": [],
   "metadata": {}
  },
  {
   "cell_type": "code",
   "execution_count": 1,
   "source": [
    "# ---- import ----\n",
    "import bittensor\n",
    "import torch\n",
    "\n",
    "# ---- Enable logging from bittensor ----\n",
    "bittensor.logging(debug = False)"
   ],
   "outputs": [
    {
     "output_type": "stream",
     "name": "stdout",
     "text": [
      "\u001b[34m2021-08-19 09:51:10.697\u001b[0m | \u001b[32m\u001b[1m    SUCCESS     \u001b[0m | Set debug:          \u001b[31mOFF\u001b[0m\n",
      "\u001b[34m2021-08-19 09:51:10.697\u001b[0m | \u001b[32m\u001b[1m    SUCCESS     \u001b[0m | Set trace:          \u001b[31mOFF\u001b[0m\n",
      "\u001b[34m2021-08-19 09:51:10.697\u001b[0m | \u001b[32m\u001b[1m    SUCCESS     \u001b[0m | Set record log:     \u001b[31mOFF\u001b[0m\n"
     ]
    }
   ],
   "metadata": {}
  },
  {
   "cell_type": "markdown",
   "source": [
    "<a id='quickStart'></a>\n",
    "# **Quick start!** \n",
    "\n",
    "#### **Client side**\n",
    "\n",
    "On the client side, we can send request for a representation of our data from each of the chosen node."
   ],
   "metadata": {}
  },
  {
   "cell_type": "code",
   "execution_count": 2,
   "source": [
    "# ---- set up a wellet ----\n",
    "wallet = bittensor.wallet().create()\n",
    "\n",
    "# ---- sync to our metagraph (this will be further explained) ----\n",
    "graph = bittensor.metagraph().sync()\n",
    "\n",
    "# ---- querying for representation by calling dendrite ----\n",
    "representations, _ = bittensor.dendrite( wallet = wallet ).forward_text (\n",
    "    endpoints = graph.endpoints,\n",
    "    inputs = \"The quick brown fox jumped over the lazy dog\"\n",
    ")\n",
    "# ---- checking out the representations ----\n",
    "# representations = Tensor with shape (number of nodes online, 9, 512)"
   ],
   "outputs": [
    {
     "output_type": "stream",
     "name": "stdout",
     "text": [
      "\u001b[34m2021-08-18 16:49:10.882\u001b[0m | \u001b[32m\u001b[1m    SUCCESS     \u001b[0m | Loaded coldkey.pub: \u001b[34m0x72295375bdd9a3c85a2df216644d31ef08ec3988c98022c09fcffd9ac01aaf12\u001b[0m\n",
      "\u001b[34m2021-08-18 16:49:10.885\u001b[0m | \u001b[32m\u001b[1m    SUCCESS     \u001b[0m | Loaded hotkey:      \u001b[34m0xfabd758dc0e148bfb86813cb451acbec27d96e19690cb1e1072036ac5510746c\u001b[0m\n"
     ]
    },
    {
     "output_type": "stream",
     "name": "stderr",
     "text": [
      "100%|████████████████████████████████████████████████████████████████████████████████████████████████████████████████████████████████████████████████████████████████████████| 7/7 [00:02<00:00,  2.54it/s]\n"
     ]
    }
   ],
   "metadata": {}
  },
  {
   "cell_type": "markdown",
   "source": [
    "### Server side\n",
    "\n",
    "On the server side, we get to mine Tau using our own model."
   ],
   "metadata": {}
  },
  {
   "cell_type": "code",
   "execution_count": 2,
   "source": [
    "from transformers import BertModel, BertConfig\n",
    "\n",
    "# ---- set up a wallet ----\n",
    "wallet = bittensor.wallet().create()\n",
    "\n",
    "# ---- set up the forward function ----\n",
    "model = BertModel(BertConfig())\n",
    "\n",
    "def forward ( pubkey, inputs_x, modality ):\n",
    "    return model( inputs_x ).narrow(2, 0, bittensor.__network_dim__)\n",
    "\n",
    "# ---- subscribe to axon, that handles forward and backward request from other neurons ----\n",
    "axon = bittensor.axon (\n",
    "    wallet = wallet,\n",
    "    forward_text = forward,\n",
    ").start().subscribe()"
   ],
   "outputs": [
    {
     "output_type": "stream",
     "name": "stdout",
     "text": [
      "\u001b[34m2021-08-19 09:52:27.806\u001b[0m | \u001b[32m\u001b[1m    SUCCESS     \u001b[0m | Loaded coldkey.pub: \u001b[34m0x72295375bdd9a3c85a2df216644d31ef08ec3988c98022c09fcffd9ac01aaf12\u001b[0m\n",
      "\u001b[34m2021-08-19 09:52:27.807\u001b[0m | \u001b[32m\u001b[1m    SUCCESS     \u001b[0m | Loaded hotkey:      \u001b[34m0xfabd758dc0e148bfb86813cb451acbec27d96e19690cb1e1072036ac5510746c\u001b[0m\n",
      "\u001b[34m2021-08-19 09:52:34.224\u001b[0m | \u001b[32m\u001b[1m    SUCCESS     \u001b[0m | Axon Stopped:       \u001b[34m[::]:8091\u001b[0m\n",
      "\u001b[34m2021-08-19 09:52:34.227\u001b[0m | \u001b[32m\u001b[1m    SUCCESS     \u001b[0m | Axon Started:       \u001b[34m[::]:8091\u001b[0m\n",
      "\u001b[34m2021-08-19 09:52:34.770\u001b[0m | \u001b[32m\u001b[1m    SUCCESS     \u001b[0m | External IP:        \u001b[34m74.14.25.112\u001b[0m\n",
      "\u001b[34m2021-08-19 09:52:35.459\u001b[0m | \u001b[32m\u001b[1m    SUCCESS     \u001b[0m | Subscribed with     \u001b[34mip: 74.14.25.112, port: 8091, modality: 0, hotkey: 0xfabd758dc0e148bfb86813cb451acbec27d96e19690cb1e1072036ac5510746c, coldkey: 0x72295375bdd9a3c85a2df216644d31ef08ec3988c98022c09fcffd9ac01aaf12\u001b[0m\n"
     ]
    }
   ],
   "metadata": {}
  },
  {
   "cell_type": "markdown",
   "source": [
    "<a id='wallet'></a>\n",
    "# **Wallet**\n",
    "\n",
    "A wallet has the following properties.\n",
    "* name\n",
    "* coldkey: Used to store, transfer, and stake tokens. It is \"cold\" because it is not loaded into the miner and remains encrypted on the device. \n",
    "* hotkey: Used by the miner to subscribe and set weights. It is \"hot\" because it is loaded into the running software (which can be insecure). It does not have permission to move funds.\n",
    "\n",
    "NOTE: Remember to save the mnemonic of the cold key and hot key for regenerating your password or hot key."
   ],
   "metadata": {}
  },
  {
   "cell_type": "code",
   "execution_count": 33,
   "source": [
    "# ---- initialize a wallet object ----\n",
    "# if you want to creat a new wallet, choose a new wallet name, else just choose an existing wallet name \n",
    "\n",
    "wallet = bittensor.wallet(name = 'wallet-name')\n",
    "wallet.create()"
   ],
   "outputs": [
    {
     "output_type": "stream",
     "name": "stdout",
     "text": [
      "\u001b[34m2021-08-18 16:54:58.596\u001b[0m | \u001b[32m\u001b[1m    SUCCESS     \u001b[0m | Loaded coldkey.pub: \u001b[34m0x4e8c74eeba33a71f738f5eb7fb94bd768bbbeca01c1857fd79b4e47277bb646d\u001b[0m\n",
      "\u001b[34m2021-08-18 16:54:58.597\u001b[0m | \u001b[32m\u001b[1m    SUCCESS     \u001b[0m | Loaded hotkey:      \u001b[34m0x4a99ff91d2813eb74f9f5e458e66c4d55fcb890bb23f2e87d37f24798b1f3501\u001b[0m\n"
     ]
    },
    {
     "output_type": "execute_result",
     "data": {
      "text/plain": [
       "<bittensor._wallet.wallet_impl.Wallet at 0x7feb6c78eb80>"
      ]
     },
     "metadata": {},
     "execution_count": 33
    }
   ],
   "metadata": {}
  },
  {
   "cell_type": "markdown",
   "source": [
    "<a id='metagraph'></a>\n",
    "# **Metagraph** \n",
    "Metagraph is an object that maintains the chain state as a torch.nn.Module. First, setp up the metagraph object."
   ],
   "metadata": {}
  },
  {
   "cell_type": "code",
   "execution_count": null,
   "source": [
    "# ---- Initializing the metagraph object ----\n",
    "meta = bittensor.metagraph()\n",
    "\n",
    "# ---- Synchronise states in meta graph with the akatsuki network, aka the chain----\n",
    "meta = meta.sync()\n",
    "\n",
    "print(\"---- Metagraph keys ----\\n\\n\", meta.state_dict().keys())"
   ],
   "outputs": [],
   "metadata": {}
  },
  {
   "cell_type": "markdown",
   "source": [
    "### **Block info**\n",
    "* n: the number of neurons in the network\n",
    "* block: the block id \n",
    "* tau (T): the token inflation rate per block"
   ],
   "metadata": {}
  },
  {
   "cell_type": "code",
   "execution_count": 11,
   "source": [
    "print(\"---- Block info ----\\n\")\n",
    "print(\"n:\\t\\t\", meta.n.item())\n",
    "print(\"block ID:\\t\", meta.block.item())\n",
    "print(\"tau:\\t\\t\", meta.tau[0])"
   ],
   "outputs": [
    {
     "output_type": "stream",
     "name": "stdout",
     "text": [
      "---- Block info ----\n",
      "\n",
      "n:\t\t tensor(37)\n",
      "block ID:\t tensor(416893)\n",
      "tau:\t\t tensor(0.5000)\n"
     ]
    }
   ],
   "metadata": {}
  },
  {
   "cell_type": "markdown",
   "source": [
    "### **Neurons' info**\n",
    "* uids: the user id of each neurons\n",
    "* last_update: the last time the the users emit to the chain\n",
    "* endpoints: the encoded ip addresses, hotkey, coldkey of other neurons. Can be retrieved by bittensor.endpoint.from_tensor()."
   ],
   "metadata": {}
  },
  {
   "cell_type": "code",
   "execution_count": 21,
   "source": [
    "print(\"---- Neurons' info (of the first 5 neurons) ----\\n\")\n",
    "print(\"uids :\\t\", meta.uids[0:5])\n",
    "print(\"last_update :\\t\", meta.last_update[0:5])\n",
    "print(\"\\nendpoint (of the first neuron):\\n\\n\", meta.endpoints[0])\n",
    "print(\"\\nip address/hotkey/coldkey (of the first neuron): \\n\\n\", bittensor.endpoint.from_tensor(meta.endpoints[0]))\n",
    "\n",
    "print(\"\\nhotkeys: \\n\\n\", meta.hotkeys[0:5])\n",
    "print(\"\\ncoldkeys: \\n\\n\", meta.coldkeys[0:5])\n",
    "print(\"\\naddresses: \\n\\n\", meta.addresses[0:5])"
   ],
   "outputs": [
    {
     "output_type": "stream",
     "name": "stdout",
     "text": [
      "---- Neurons' info (of the first 5 neurons) ----\n",
      "\n",
      "uids :\t tensor([0, 1, 2, 3, 4])\n",
      "lastemit :\t tensor([ 16106,  16171, 378258,  31431,  31790])\n",
      "\n",
      "endpoint (of the first neuron):\n",
      "\n",
      " tensor([123,  34, 117, 105, 100,  34,  58,  32,  48,  44,  32,  34, 104, 111,\n",
      "        116, 107, 101, 121,  34,  58,  32,  34,  53,  67, 118, 102,  69, 102,\n",
      "         86,  89,  86,  81, 120,  66, 122, 112,  68,  87,  98,  98,  55,  72,\n",
      "         84,  53, 118, 116,  70,  87, 107,  65, 102, 107,  54, 120,  53, 104,\n",
      "         57,  86,  55, 100, 111,  66,  71, 115, 116, 104, 104, 114, 116, 111,\n",
      "         34,  44,  32,  34, 105, 112,  34,  58,  32,  34,  57,  57,  46,  50,\n",
      "         51,  56,  46,  49,  51,  54,  46,  53,  54,  34,  44,  32,  34, 105,\n",
      "        112,  95, 116, 121, 112, 101,  34,  58,  32,  52,  44,  32,  34, 112,\n",
      "        111, 114, 116,  34,  58,  32,  56,  48,  57,  49,  44,  32,  34,  99,\n",
      "        111, 108, 100, 107, 101, 121,  34,  58,  32,  34,  53,  69, 118, 112,\n",
      "         52,  78, 102, 116,  87,  70,  52, 101,  88, 115,  69,  51,  56,  74,\n",
      "         69, 106,  51,  81,  77,  49,  97,  75,  69,  67,  51,  76, 120, 107,\n",
      "        117,  77,  84, 106,  90, 109, 102, 101,  83, 118,  70, 117, 104, 114,\n",
      "        107,  85,  34,  44,  32,  34, 109, 111, 100,  97, 108, 105, 116, 121,\n",
      "         34,  58,  32,  48, 125,  -1,  -1,  -1,  -1,  -1,  -1,  -1,  -1,  -1,\n",
      "         -1,  -1,  -1,  -1,  -1,  -1,  -1,  -1,  -1,  -1,  -1,  -1,  -1,  -1,\n",
      "         -1,  -1,  -1,  -1,  -1,  -1,  -1,  -1,  -1,  -1,  -1,  -1,  -1,  -1,\n",
      "         -1,  -1,  -1,  -1,  -1,  -1,  -1,  -1,  -1,  -1,  -1,  -1])\n",
      "\n",
      "ip address/hotkey/coldkey (of the first neuron): \n",
      "\n",
      " Endpoint (uid: 0 hotkey: 5CvfEfVYVQxBzpDWbb7HT5vtFWkAfk6x5h9V7doBGsthhrto ip: /ipv4/99.238.136.56:8091 modality: 0 coldkey: 5Evp4NftWF4eXsE38JEj3QM1aKEC3LxkuMTjZmfeSvFuhrkU) \n",
      "\n",
      "hotkeys: \n",
      "\n",
      " ['5CvfEfVYVQxBzpDWbb7HT5vtFWkAfk6x5h9V7doBGsthhrto', '5CSgBX5uWQSniycimEJzc88LJuD3sUyHVWwkAicm6jh7EPii', '5EkF63UTYSFsk8gRRi4cHPN56CV6XcD2GsdnLSzsYmFH4kKq', '5F3wYX1ErB1ZnjH8rNyMBCfQ3MnRvvc25ffqgFQAEFrLBTZh', '5EXVN93g6Y1PqppgKMVE3sEMURWkf2D7yJ2xsbgu1o7mCm6L']\n",
      "\n",
      "coldkeys: \n",
      "\n",
      " ['5Evp4NftWF4eXsE38JEj3QM1aKEC3LxkuMTjZmfeSvFuhrkU', '5Evp4NftWF4eXsE38JEj3QM1aKEC3LxkuMTjZmfeSvFuhrkU', '5GRfTDpPckkUWCsBFq5rwvhTHDTWZfcyBJC5x69KYzSsA7ws', '5Gpcc7EJDxXTXgmyJUU84x1Nb44GZN69McYTx7UKjJUYo8eS', '5Gpcc7EJDxXTXgmyJUU84x1Nb44GZN69McYTx7UKjJUYo8eS']\n",
      "\n",
      "addresses: \n",
      "\n",
      " ['/ipv4/99.238.136.56:8091', '/ipv4/99.238.136.56:8091', '/ipv4/148.102.113.132:8091', '/ipv4/70.69.22.235:8091', '/ipv4/70.69.22.235:8091']\n"
     ]
    }
   ],
   "metadata": {}
  },
  {
   "cell_type": "markdown",
   "source": [
    "### **Neuron's scorings**\n",
    "* weight (W): the weight of of the network, which is an n*n matrix. W_{i,j} indicates the locally calculated score from uid[i] to uid[j]. \n",
    "* rank (R): R = W<sup>T</sup> &middot; S. It also controls the priority of message to be read by peers.\n",
    "* trust (T): T = $\\sigma$ (C <sup>T</sup> S), where C is the connectivity matrix of size n*n. C<sub>i,j</sub> indicates the number of expectation in time that peer i reach peer j.\n",
    "* incentive (I): I = W<sup>T</sup> S &middot; $\\sigma$ (C <sup>T</sup> S)\n",
    "* stake (S): the stake of each neuron, updated with function S<sub>t+1</sub> = S<sub>t</sub> + (&tau; R ||S||) / ||R|| "
   ],
   "metadata": {}
  },
  {
   "cell_type": "code",
   "execution_count": 10,
   "source": [
    "print(\"---- Neurons' scoring (of and within the first 5 neurons) ----\\n\")\n",
    "print(\"Weight:\\n\", meta.W[0:5, 0:5])\n",
    "print(\"Stake:\\t\", meta.S[0:5])\n",
    "print(\"Rank:\\t\", meta.R[0:5])\n",
    "print(\"Incentive:\\t\", meta.I[0:5])"
   ],
   "outputs": [
    {
     "output_type": "stream",
     "name": "stdout",
     "text": [
      "---- Neurons' scoring (of and within the first 5 neurons) ----\n",
      "\n",
      "Weight:\n",
      " tensor([[1., 0., 0., 0., 0.],\n",
      "        [0., 1., 0., 0., 0.],\n",
      "        [0., 0., 1., 0., 0.],\n",
      "        [0., 0., 0., 1., 0.],\n",
      "        [0., 0., 0., 0., 1.]])\n",
      "Stake:\t tensor([0., 0., 0., 0., 0.])\n",
      "Rank:\t tensor([0., 0., 0., 0., 0.])\n",
      "Incentive:\t tensor([0., 0., 0., 0., 0.])\n"
     ]
    }
   ],
   "metadata": {}
  },
  {
   "cell_type": "markdown",
   "source": [
    "### **Saving and loading the metagraph** "
   ],
   "metadata": {}
  },
  {
   "cell_type": "code",
   "execution_count": 9,
   "source": [
    "meta.save()\n",
    "meta.load()\n",
    "\n",
    "meta.save_to_path('~/.bittensor/', 'network-name.pt')\n",
    "meta.load_from_path('~/.bittensor/network-name.pt')"
   ],
   "outputs": [
    {
     "output_type": "execute_result",
     "data": {
      "text/plain": [
       "Metagraph (37,406630,akatsuki)"
      ]
     },
     "metadata": {},
     "execution_count": 9
    }
   ],
   "metadata": {}
  },
  {
   "cell_type": "markdown",
   "source": [
    "### **Use Cases**"
   ],
   "metadata": {}
  },
  {
   "cell_type": "code",
   "execution_count": 9,
   "source": [
    "# TODO: maybe list more use cases\n",
    "\n",
    "# ---- getting the endpoints with stake at the top 90% ----\n",
    "meta.endpoints[meta.S > torch.quantile(meta.S, 0.9)]\n",
    "\n",
    "# ---- querying the stake of a neuron from its pubkey(hotkey) ----\n",
    "# stake_of_caller = meta.S[meta.hotkeys.index(pubkey)]"
   ],
   "outputs": [
    {
     "output_type": "execute_result",
     "data": {
      "text/plain": [
       "[(tensor([123,  34, 117, 105, 100,  34,  58,  32,  51,  53,  44,  32,  34, 104,\n",
       "          111, 116, 107, 101, 121,  34,  58,  32,  34,  53,  70,  52, 101, 119,\n",
       "           87,  51,  51,  54, 121,  71,  71, 121, 103, 105,  75, 105,  99,  68,\n",
       "          111,  99,  71,  50,  56,  88, 107, 111,  83, 111, 116,  67, 120,  70,\n",
       "          109, 101,  99,  81, 109,  85,  53,  68,  83,  56, 110,  85,  50,  80,\n",
       "           76,  34,  44,  32,  34, 105, 112,  34,  58,  32,  34,  49,  52,  56,\n",
       "           46,  49,  48,  50,  46,  49,  49,  51,  46,  49,  51,  50,  34,  44,\n",
       "           32,  34, 105, 112,  95, 116, 121, 112, 101,  34,  58,  32,  52,  44,\n",
       "           32,  34, 112, 111, 114, 116,  34,  58,  32,  56,  48,  57,  49,  44,\n",
       "           32,  34,  99, 111, 108, 100, 107, 101, 121,  34,  58,  32,  34,  53,\n",
       "           70, 115,  86, 109,  67,  75,  86,  68, 118, 107,  85, 118,  88,  82,\n",
       "           52,  50,  99, 107, 100, 105,  57,  71, 120, 109, 103,  85,  56,  67,\n",
       "           50, 122,  81, 118,  75, 109,  55,  77, 105,  54,  50,  49,  57,  57,\n",
       "          113, 102,  67,  68, 116,  34,  44,  32,  34, 109, 111, 100,  97, 108,\n",
       "          105, 116, 121,  34,  58,  32,  48, 125,  -1,  -1,  -1,  -1,  -1,  -1,\n",
       "           -1,  -1,  -1,  -1,  -1,  -1,  -1,  -1,  -1,  -1,  -1,  -1,  -1,  -1,\n",
       "           -1,  -1,  -1,  -1,  -1,  -1,  -1,  -1,  -1,  -1,  -1,  -1,  -1,  -1,\n",
       "           -1,  -1,  -1,  -1,  -1,  -1,  -1,  -1,  -1,  -1,  -1,  -1]),\n",
       "  tensor(24.5001))]"
      ]
     },
     "metadata": {},
     "execution_count": 9
    }
   ],
   "metadata": {}
  },
  {
   "cell_type": "markdown",
   "source": [
    "<a id='subtensor'></a>\n",
    "# **Subtensor**\n",
    "\n",
    "It handles the interactions with the subtensor chain."
   ],
   "metadata": {}
  },
  {
   "cell_type": "code",
   "execution_count": 72,
   "source": [
    "# ---- initialize ----\n",
    "subtensor = bittensor.subtensor()\n",
    "\n",
    "# ---- Subscribes an bittensor endpoint to the substensor chain. ----\n",
    "subtensor.subscribe(wallet, axon.external_ip, axon.external_port, 0)\n",
    "\n",
    "# ---- shall we include these functions as well? ----\n",
    "\n",
    "# subtensor.connect()\n",
    "# subtensor.set_weights()\n",
    "# subtensor.get_balances()"
   ],
   "outputs": [
    {
     "output_type": "stream",
     "name": "stdout",
     "text": [
      "\u001b[34m2021-08-19 10:56:31.569\u001b[0m | \u001b[32m\u001b[1m    SUCCESS     \u001b[0m | Subscribed with     \u001b[34mip: 74.14.25.112, port: 8091, modality: 0, hotkey: 0xfabd758dc0e148bfb86813cb451acbec27d96e19690cb1e1072036ac5510746c, coldkey: 0x72295375bdd9a3c85a2df216644d31ef08ec3988c98022c09fcffd9ac01aaf12\u001b[0m\n"
     ]
    },
    {
     "output_type": "execute_result",
     "data": {
      "text/plain": [
       "True"
      ]
     },
     "metadata": {},
     "execution_count": 72
    }
   ],
   "metadata": {}
  },
  {
   "cell_type": "markdown",
   "source": [
    "<a id='dendrite'></a>\n",
    "# **Dendrite**\n",
    "\n",
    "The dendrite object is for questing representation of your data from other neurons."
   ],
   "metadata": {}
  },
  {
   "cell_type": "code",
   "execution_count": 53,
   "source": [
    "# the projected size of representation\n",
    "bittensor.__network_dim__"
   ],
   "outputs": [
    {
     "output_type": "execute_result",
     "data": {
      "text/plain": [
       "512"
      ]
     },
     "metadata": {},
     "execution_count": 53
    }
   ],
   "metadata": {}
  },
  {
   "cell_type": "code",
   "execution_count": 54,
   "source": [
    "# ---- initializing a dendrite object ----\n",
    "# note: it is not required to attach a wallet to the dendrite object \n",
    "dend = bittensor.dendrite(wallet = wallet)"
   ],
   "outputs": [],
   "metadata": {}
  },
  {
   "cell_type": "code",
   "execution_count": 57,
   "source": [
    "# ---- specify the endpoints that you want to send request to ----\n",
    "# here we select the top 10% endpoints that has the most stake \n",
    "endpoints = meta.endpoints[meta.S > torch.quantile(meta.S, 0.9)]\n",
    "\n",
    "# ---- retrieving the represenataions from other \n",
    "representation = dend.forward_text(endpoints, \"The quick brown fox jumped over the lazy dog\" )"
   ],
   "outputs": [],
   "metadata": {}
  },
  {
   "cell_type": "code",
   "execution_count": 14,
   "source": [
    "# ---- checking on the representation ----\n",
    "representation[0]"
   ],
   "outputs": [
    {
     "output_type": "execute_result",
     "data": {
      "text/plain": [
       "(tensor([[[0., 0., 0.,  ..., 0., 0., 0.],\n",
       "          [0., 0., 0.,  ..., 0., 0., 0.],\n",
       "          [0., 0., 0.,  ..., 0., 0., 0.],\n",
       "          ...,\n",
       "          [0., 0., 0.,  ..., 0., 0., 0.],\n",
       "          [0., 0., 0.,  ..., 0., 0., 0.],\n",
       "          [0., 0., 0.,  ..., 0., 0., 0.]]], grad_fn=<DendriteBackward>),)"
      ]
     },
     "metadata": {},
     "execution_count": 14
    }
   ],
   "metadata": {}
  },
  {
   "cell_type": "markdown",
   "source": [
    "<a id='axon'></a>\n",
    "# **Axon**\n",
    "\n",
    "An axon object that handles forward and backward request from other neurons."
   ],
   "metadata": {}
  },
  {
   "cell_type": "code",
   "execution_count": 15,
   "source": [
    "# ---- first, define a model and a forward function to be passed to the Axon object ----\n",
    "# the resulted model representation has to be narrowed to our network_dim \n",
    "\n",
    "from transformers import BertModel, BertConfig\n",
    "model = BertModel(BertConfig())\n",
    "\n",
    "def forward ( pubkey, inputs_x, modality ):\n",
    "    return model( inputs ).narrow(2, 0, bittensor.__network_dim__)"
   ],
   "outputs": [],
   "metadata": {}
  },
  {
   "cell_type": "code",
   "execution_count": 63,
   "source": [
    "# ---- initialize the axon object ----\n",
    "# ---- start the axon object, but other neurons still can't find you!!! ----\n",
    "# ---- subscribe the axon object to the network. Okay! other neurons can see you now! ---- \n",
    "axon_ = bittensor.axon (\n",
    "    wallet = wallet,\n",
    "    forward_text = forward,\n",
    ").start().subscribe()"
   ],
   "outputs": [
    {
     "output_type": "stream",
     "name": "stdout",
     "text": [
      "\u001b[34m2021-08-19 10:36:26.515\u001b[0m | \u001b[32m\u001b[1m    SUCCESS     \u001b[0m | Axon Stopped:       \u001b[34m[::]:8091\u001b[0m\n",
      "\u001b[34m2021-08-19 10:36:26.518\u001b[0m | \u001b[32m\u001b[1m    SUCCESS     \u001b[0m | Axon Started:       \u001b[34m[::]:8091\u001b[0m\n",
      "\u001b[34m2021-08-19 10:36:26.930\u001b[0m | \u001b[32m\u001b[1m    SUCCESS     \u001b[0m | External IP:        \u001b[34m74.14.25.112\u001b[0m\n",
      "\u001b[34m2021-08-19 10:36:27.597\u001b[0m | \u001b[32m\u001b[1m    SUCCESS     \u001b[0m | Subscribed with     \u001b[34mip: 74.14.25.112, port: 8091, modality: 0, hotkey: 0xfabd758dc0e148bfb86813cb451acbec27d96e19690cb1e1072036ac5510746c, coldkey: 0x72295375bdd9a3c85a2df216644d31ef08ec3988c98022c09fcffd9ac01aaf12\u001b[0m\n"
     ]
    }
   ],
   "metadata": {}
  },
  {
   "cell_type": "code",
   "execution_count": 64,
   "source": [
    "# Bug?\n",
    "axon_ = bittensor.axon (\n",
    "    wallet = wallet,\n",
    "    forward_text = forward,\n",
    ")\n",
    "axon.start()\n",
    "axon.subscribe()"
   ],
   "outputs": [
    {
     "output_type": "stream",
     "name": "stdout",
     "text": [
      "\u001b[34m2021-08-19 10:36:29.630\u001b[0m | \u001b[32m\u001b[1m    SUCCESS     \u001b[0m | Axon Stopped:       \u001b[34m[::]:8091\u001b[0m\n"
     ]
    },
    {
     "output_type": "error",
     "ename": "ValueError",
     "evalue": "Cannot start already-started server!",
     "traceback": [
      "\u001b[0;31m---------------------------------------------------------------------------\u001b[0m",
      "\u001b[0;31mValueError\u001b[0m                                Traceback (most recent call last)",
      "\u001b[0;32m/tmp/ipykernel_18990/3310430655.py\u001b[0m in \u001b[0;36m<module>\u001b[0;34m\u001b[0m\n\u001b[1;32m      4\u001b[0m     \u001b[0mforward\u001b[0m \u001b[0;34m=\u001b[0m \u001b[0mforward\u001b[0m\u001b[0;34m,\u001b[0m\u001b[0;34m\u001b[0m\u001b[0;34m\u001b[0m\u001b[0m\n\u001b[1;32m      5\u001b[0m )\n\u001b[0;32m----> 6\u001b[0;31m \u001b[0maxon\u001b[0m\u001b[0;34m.\u001b[0m\u001b[0mstart\u001b[0m\u001b[0;34m(\u001b[0m\u001b[0;34m)\u001b[0m\u001b[0;34m\u001b[0m\u001b[0;34m\u001b[0m\u001b[0m\n\u001b[0m\u001b[1;32m      7\u001b[0m \u001b[0maxon\u001b[0m\u001b[0;34m.\u001b[0m\u001b[0msubscribe\u001b[0m\u001b[0;34m(\u001b[0m\u001b[0;34m)\u001b[0m\u001b[0;34m\u001b[0m\u001b[0;34m\u001b[0m\u001b[0m\n",
      "\u001b[0;32m~/.local/lib/python3.8/site-packages/bittensor/_axon/axon_impl.py\u001b[0m in \u001b[0;36mstart\u001b[0;34m(self)\u001b[0m\n\u001b[1;32m    570\u001b[0m             \u001b[0mlogger\u001b[0m\u001b[0;34m.\u001b[0m\u001b[0msuccess\u001b[0m\u001b[0;34m(\u001b[0m\u001b[0;34m\"Axon Stopped:\"\u001b[0m\u001b[0;34m.\u001b[0m\u001b[0mljust\u001b[0m\u001b[0;34m(\u001b[0m\u001b[0;36m20\u001b[0m\u001b[0;34m)\u001b[0m \u001b[0;34m+\u001b[0m \u001b[0;34m\"<blue>{}</blue>\"\u001b[0m\u001b[0;34m,\u001b[0m \u001b[0mself\u001b[0m\u001b[0;34m.\u001b[0m\u001b[0mip\u001b[0m \u001b[0;34m+\u001b[0m \u001b[0;34m':'\u001b[0m \u001b[0;34m+\u001b[0m \u001b[0mstr\u001b[0m\u001b[0;34m(\u001b[0m\u001b[0mself\u001b[0m\u001b[0;34m.\u001b[0m\u001b[0mport\u001b[0m\u001b[0;34m)\u001b[0m\u001b[0;34m)\u001b[0m\u001b[0;34m\u001b[0m\u001b[0;34m\u001b[0m\u001b[0m\n\u001b[1;32m    571\u001b[0m \u001b[0;34m\u001b[0m\u001b[0m\n\u001b[0;32m--> 572\u001b[0;31m         \u001b[0mself\u001b[0m\u001b[0;34m.\u001b[0m\u001b[0mserver\u001b[0m\u001b[0;34m.\u001b[0m\u001b[0mstart\u001b[0m\u001b[0;34m(\u001b[0m\u001b[0;34m)\u001b[0m\u001b[0;34m\u001b[0m\u001b[0;34m\u001b[0m\u001b[0m\n\u001b[0m\u001b[1;32m    573\u001b[0m         \u001b[0mlogger\u001b[0m\u001b[0;34m.\u001b[0m\u001b[0msuccess\u001b[0m\u001b[0;34m(\u001b[0m\u001b[0;34m\"Axon Started:\"\u001b[0m\u001b[0;34m.\u001b[0m\u001b[0mljust\u001b[0m\u001b[0;34m(\u001b[0m\u001b[0;36m20\u001b[0m\u001b[0;34m)\u001b[0m \u001b[0;34m+\u001b[0m \u001b[0;34m\"<blue>{}</blue>\"\u001b[0m\u001b[0;34m,\u001b[0m \u001b[0mself\u001b[0m\u001b[0;34m.\u001b[0m\u001b[0mip\u001b[0m \u001b[0;34m+\u001b[0m \u001b[0;34m':'\u001b[0m \u001b[0;34m+\u001b[0m \u001b[0mstr\u001b[0m\u001b[0;34m(\u001b[0m\u001b[0mself\u001b[0m\u001b[0;34m.\u001b[0m\u001b[0mport\u001b[0m\u001b[0;34m)\u001b[0m\u001b[0;34m)\u001b[0m\u001b[0;34m\u001b[0m\u001b[0;34m\u001b[0m\u001b[0m\n\u001b[1;32m    574\u001b[0m         \u001b[0;32mreturn\u001b[0m \u001b[0mself\u001b[0m\u001b[0;34m\u001b[0m\u001b[0;34m\u001b[0m\u001b[0m\n",
      "\u001b[0;32m~/.local/lib/python3.8/site-packages/grpc/_server.py\u001b[0m in \u001b[0;36mstart\u001b[0;34m(self)\u001b[0m\n\u001b[1;32m    969\u001b[0m \u001b[0;34m\u001b[0m\u001b[0m\n\u001b[1;32m    970\u001b[0m     \u001b[0;32mdef\u001b[0m \u001b[0mstart\u001b[0m\u001b[0;34m(\u001b[0m\u001b[0mself\u001b[0m\u001b[0;34m)\u001b[0m\u001b[0;34m:\u001b[0m\u001b[0;34m\u001b[0m\u001b[0;34m\u001b[0m\u001b[0m\n\u001b[0;32m--> 971\u001b[0;31m         \u001b[0m_start\u001b[0m\u001b[0;34m(\u001b[0m\u001b[0mself\u001b[0m\u001b[0;34m.\u001b[0m\u001b[0m_state\u001b[0m\u001b[0;34m)\u001b[0m\u001b[0;34m\u001b[0m\u001b[0;34m\u001b[0m\u001b[0m\n\u001b[0m\u001b[1;32m    972\u001b[0m \u001b[0;34m\u001b[0m\u001b[0m\n\u001b[1;32m    973\u001b[0m     \u001b[0;32mdef\u001b[0m \u001b[0mwait_for_termination\u001b[0m\u001b[0;34m(\u001b[0m\u001b[0mself\u001b[0m\u001b[0;34m,\u001b[0m \u001b[0mtimeout\u001b[0m\u001b[0;34m=\u001b[0m\u001b[0;32mNone\u001b[0m\u001b[0;34m)\u001b[0m\u001b[0;34m:\u001b[0m\u001b[0;34m\u001b[0m\u001b[0;34m\u001b[0m\u001b[0m\n",
      "\u001b[0;32m~/.local/lib/python3.8/site-packages/grpc/_server.py\u001b[0m in \u001b[0;36m_start\u001b[0;34m(state)\u001b[0m\n\u001b[1;32m    918\u001b[0m     \u001b[0;32mwith\u001b[0m \u001b[0mstate\u001b[0m\u001b[0;34m.\u001b[0m\u001b[0mlock\u001b[0m\u001b[0;34m:\u001b[0m\u001b[0;34m\u001b[0m\u001b[0;34m\u001b[0m\u001b[0m\n\u001b[1;32m    919\u001b[0m         \u001b[0;32mif\u001b[0m \u001b[0mstate\u001b[0m\u001b[0;34m.\u001b[0m\u001b[0mstage\u001b[0m \u001b[0;32mis\u001b[0m \u001b[0;32mnot\u001b[0m \u001b[0m_ServerStage\u001b[0m\u001b[0;34m.\u001b[0m\u001b[0mSTOPPED\u001b[0m\u001b[0;34m:\u001b[0m\u001b[0;34m\u001b[0m\u001b[0;34m\u001b[0m\u001b[0m\n\u001b[0;32m--> 920\u001b[0;31m             \u001b[0;32mraise\u001b[0m \u001b[0mValueError\u001b[0m\u001b[0;34m(\u001b[0m\u001b[0;34m'Cannot start already-started server!'\u001b[0m\u001b[0;34m)\u001b[0m\u001b[0;34m\u001b[0m\u001b[0;34m\u001b[0m\u001b[0m\n\u001b[0m\u001b[1;32m    921\u001b[0m         \u001b[0mstate\u001b[0m\u001b[0;34m.\u001b[0m\u001b[0mserver\u001b[0m\u001b[0;34m.\u001b[0m\u001b[0mstart\u001b[0m\u001b[0;34m(\u001b[0m\u001b[0;34m)\u001b[0m\u001b[0;34m\u001b[0m\u001b[0;34m\u001b[0m\u001b[0m\n\u001b[1;32m    922\u001b[0m         \u001b[0mstate\u001b[0m\u001b[0;34m.\u001b[0m\u001b[0mstage\u001b[0m \u001b[0;34m=\u001b[0m \u001b[0m_ServerStage\u001b[0m\u001b[0;34m.\u001b[0m\u001b[0mSTARTED\u001b[0m\u001b[0;34m\u001b[0m\u001b[0;34m\u001b[0m\u001b[0m\n",
      "\u001b[0;31mValueError\u001b[0m: Cannot start already-started server!"
     ]
    }
   ],
   "metadata": {}
  },
  {
   "cell_type": "code",
   "execution_count": 58,
   "source": [
    "# ---- check your subscribed ip and port ----\n",
    "print(f\"{axon.external_ip}:{axon.external_port}\" )"
   ],
   "outputs": [
    {
     "output_type": "stream",
     "name": "stdout",
     "text": [
      "74.14.25.112:8091\n"
     ]
    }
   ],
   "metadata": {}
  }
 ],
 "metadata": {
  "kernelspec": {
   "display_name": "bit",
   "language": "python",
   "name": "bit"
  },
  "language_info": {
   "codemirror_mode": {
    "name": "ipython",
    "version": 3
   },
   "file_extension": ".py",
   "mimetype": "text/x-python",
   "name": "python",
   "nbconvert_exporter": "python",
   "pygments_lexer": "ipython3",
   "version": "3.8.5"
  }
 },
 "nbformat": 4,
 "nbformat_minor": 4
}